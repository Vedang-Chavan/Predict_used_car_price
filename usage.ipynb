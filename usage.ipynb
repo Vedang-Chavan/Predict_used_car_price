{
 "cells": [
  {
   "cell_type": "code",
   "execution_count": 58,
   "metadata": {},
   "outputs": [],
   "source": [
    "#Importing Libraries\n",
    "import numpy as np\n",
    "import pandas as pd\n",
    "import matplotlib.pyplot as plt"
   ]
  },
  {
   "cell_type": "code",
   "execution_count": 5,
   "metadata": {},
   "outputs": [
    {
     "name": "stdout",
     "output_type": "stream",
     "text": [
      "        Price  Year  Mileage State       Make        Model\n",
      "0       21490  2014    31909    MD     Nissan    MuranoAWD\n",
      "1       21250  2016    25741    KY  Chevrolet  CamaroCoupe\n",
      "2       20925  2016    24633    SC    Hyundai        Santa\n",
      "3       14500  2012    84026    OK       Jeep        Grand\n",
      "4       32488  2013    22816    TN       Jeep     Wrangler\n",
      "...       ...   ...      ...   ...        ...          ...\n",
      "499995  16997  2013    40393    TX        BMW            1\n",
      "499996  11990  2012    91794    WA    Hyundai        Santa\n",
      "499997  49991  2014    39107    MS       Ford        Super\n",
      "499998  21888  2010    62556    NH      Dodge          Ram\n",
      "499999  63973  2017    17653    NJ  Chevrolet  Suburban4WD\n",
      "\n",
      "[500000 rows x 6 columns]\n"
     ]
    }
   ],
   "source": [
    "raw_df = pd.read_csv(\"data/dataTrain_carListings.csv\")\n",
    "print(raw_df)"
   ]
  },
  {
   "cell_type": "markdown",
   "metadata": {},
   "source": [
    "The data provided has 6 columns and 500000 samples."
   ]
  },
  {
   "cell_type": "markdown",
   "metadata": {},
   "source": [
    "## Exploratory Data Analysis"
   ]
  },
  {
   "cell_type": "code",
   "execution_count": 8,
   "metadata": {},
   "outputs": [
    {
     "data": {
      "text/plain": [
       "(500000, 6)"
      ]
     },
     "execution_count": 8,
     "metadata": {},
     "output_type": "execute_result"
    }
   ],
   "source": [
    "raw_df.shape"
   ]
  },
  {
   "cell_type": "code",
   "execution_count": 9,
   "metadata": {},
   "outputs": [
    {
     "data": {
      "text/plain": [
       "Index(['Price', 'Year', 'Mileage', 'State', 'Make', 'Model'], dtype='object')"
      ]
     },
     "execution_count": 9,
     "metadata": {},
     "output_type": "execute_result"
    }
   ],
   "source": [
    "raw_df.columns"
   ]
  },
  {
   "cell_type": "markdown",
   "metadata": {},
   "source": [
    "The features are namely: Make, Model, State, Mileage, Year and finally what we have to predict, i.e. Price."
   ]
  },
  {
   "cell_type": "code",
   "execution_count": 10,
   "metadata": {},
   "outputs": [
    {
     "name": "stdout",
     "output_type": "stream",
     "text": [
      "<class 'pandas.core.frame.DataFrame'>\n",
      "RangeIndex: 500000 entries, 0 to 499999\n",
      "Data columns (total 6 columns):\n",
      " #   Column   Non-Null Count   Dtype \n",
      "---  ------   --------------   ----- \n",
      " 0   Price    500000 non-null  int64 \n",
      " 1   Year     500000 non-null  int64 \n",
      " 2   Mileage  500000 non-null  int64 \n",
      " 3   State    500000 non-null  object\n",
      " 4   Make     500000 non-null  object\n",
      " 5   Model    500000 non-null  object\n",
      "dtypes: int64(3), object(3)\n",
      "memory usage: 22.9+ MB\n"
     ]
    }
   ],
   "source": [
    "raw_df.info()"
   ]
  },
  {
   "cell_type": "markdown",
   "metadata": {},
   "source": [
    "As we can clearly see there is no null values in either of the columns. Further, there are three numerical attributes and three categorical attributes."
   ]
  },
  {
   "cell_type": "markdown",
   "metadata": {},
   "source": [
    "### Categorical Attributes"
   ]
  },
  {
   "cell_type": "code",
   "execution_count": 14,
   "metadata": {},
   "outputs": [
    {
     "name": "stdout",
     "output_type": "stream",
     "text": [
      "There are 3 categorical attributes: ['State', 'Make', 'Model']\n"
     ]
    }
   ],
   "source": [
    "# Categorical Attributes\n",
    "categorical_ = [col for col in raw_df.columns if raw_df[col].dtype=='O']\n",
    "print(\"There are {} categorical attributes: {}\".format(len(categorical_),categorical_))"
   ]
  },
  {
   "cell_type": "code",
   "execution_count": 18,
   "metadata": {},
   "outputs": [
    {
     "data": {
      "text/html": [
       "<div>\n",
       "<style scoped>\n",
       "    .dataframe tbody tr th:only-of-type {\n",
       "        vertical-align: middle;\n",
       "    }\n",
       "\n",
       "    .dataframe tbody tr th {\n",
       "        vertical-align: top;\n",
       "    }\n",
       "\n",
       "    .dataframe thead th {\n",
       "        text-align: right;\n",
       "    }\n",
       "</style>\n",
       "<table border=\"1\" class=\"dataframe\">\n",
       "  <thead>\n",
       "    <tr style=\"text-align: right;\">\n",
       "      <th></th>\n",
       "      <th>State</th>\n",
       "      <th>Make</th>\n",
       "      <th>Model</th>\n",
       "    </tr>\n",
       "  </thead>\n",
       "  <tbody>\n",
       "    <tr>\n",
       "      <th>0</th>\n",
       "      <td>MD</td>\n",
       "      <td>Nissan</td>\n",
       "      <td>MuranoAWD</td>\n",
       "    </tr>\n",
       "    <tr>\n",
       "      <th>1</th>\n",
       "      <td>KY</td>\n",
       "      <td>Chevrolet</td>\n",
       "      <td>CamaroCoupe</td>\n",
       "    </tr>\n",
       "    <tr>\n",
       "      <th>2</th>\n",
       "      <td>SC</td>\n",
       "      <td>Hyundai</td>\n",
       "      <td>Santa</td>\n",
       "    </tr>\n",
       "    <tr>\n",
       "      <th>3</th>\n",
       "      <td>OK</td>\n",
       "      <td>Jeep</td>\n",
       "      <td>Grand</td>\n",
       "    </tr>\n",
       "    <tr>\n",
       "      <th>4</th>\n",
       "      <td>TN</td>\n",
       "      <td>Jeep</td>\n",
       "      <td>Wrangler</td>\n",
       "    </tr>\n",
       "    <tr>\n",
       "      <th>5</th>\n",
       "      <td>FL</td>\n",
       "      <td>Jeep</td>\n",
       "      <td>Wrangler</td>\n",
       "    </tr>\n",
       "    <tr>\n",
       "      <th>6</th>\n",
       "      <td>NH</td>\n",
       "      <td>Ford</td>\n",
       "      <td>F-1504WD</td>\n",
       "    </tr>\n",
       "    <tr>\n",
       "      <th>7</th>\n",
       "      <td>WI</td>\n",
       "      <td>Ford</td>\n",
       "      <td>ExplorerXLT</td>\n",
       "    </tr>\n",
       "    <tr>\n",
       "      <th>8</th>\n",
       "      <td>NY</td>\n",
       "      <td>Hyundai</td>\n",
       "      <td>Sonata4dr</td>\n",
       "    </tr>\n",
       "    <tr>\n",
       "      <th>9</th>\n",
       "      <td>TX</td>\n",
       "      <td>Kia</td>\n",
       "      <td>SorentoSX</td>\n",
       "    </tr>\n",
       "  </tbody>\n",
       "</table>\n",
       "</div>"
      ],
      "text/plain": [
       "  State       Make        Model\n",
       "0    MD     Nissan    MuranoAWD\n",
       "1    KY  Chevrolet  CamaroCoupe\n",
       "2    SC    Hyundai        Santa\n",
       "3    OK       Jeep        Grand\n",
       "4    TN       Jeep     Wrangler\n",
       "5    FL       Jeep     Wrangler\n",
       "6    NH       Ford     F-1504WD\n",
       "7    WI       Ford  ExplorerXLT\n",
       "8    NY    Hyundai    Sonata4dr\n",
       "9    TX        Kia    SorentoSX"
      ]
     },
     "execution_count": 18,
     "metadata": {},
     "output_type": "execute_result"
    }
   ],
   "source": [
    "raw_df[categorical_].head(10)"
   ]
  },
  {
   "cell_type": "code",
   "execution_count": 20,
   "metadata": {},
   "outputs": [
    {
     "data": {
      "text/plain": [
       "State    0\n",
       "Make     0\n",
       "Model    0\n",
       "dtype: int64"
      ]
     },
     "execution_count": 20,
     "metadata": {},
     "output_type": "execute_result"
    }
   ],
   "source": [
    "# Confirming if there are any null values in categorical attributes\n",
    "raw_df[categorical_].isnull().sum()"
   ]
  },
  {
   "cell_type": "code",
   "execution_count": 24,
   "metadata": {},
   "outputs": [
    {
     "name": "stdout",
     "output_type": "stream",
     "text": [
      "State\n",
      " TX    57153\n",
      " CA    45643\n",
      " FL    42244\n",
      " GA    22790\n",
      " NC    22363\n",
      " IL    21058\n",
      " VA    19851\n",
      " PA    16337\n",
      " NY    15617\n",
      " NJ    15220\n",
      " OH    14171\n",
      " CO    13669\n",
      " WA    13637\n",
      " AZ    13395\n",
      " TN    11569\n",
      " MA    10753\n",
      " MD    10327\n",
      " MO     9966\n",
      " IN     9833\n",
      " KY     8331\n",
      " AL     7873\n",
      " WI     6950\n",
      " MN     6782\n",
      " MI     6677\n",
      " OK     6374\n",
      " CT     6178\n",
      " OR     6128\n",
      " UT     6095\n",
      " SC     6026\n",
      " LA     4788\n",
      " KS     4621\n",
      " NV     4134\n",
      " AR     3956\n",
      " MS     3843\n",
      " NH     3413\n",
      " NE     3150\n",
      " IA     2910\n",
      " NM     2890\n",
      " ID     2153\n",
      " DE     1520\n",
      " HI     1486\n",
      " MT     1229\n",
      " ME     1197\n",
      " RI     1065\n",
      " AK     1031\n",
      " ND      855\n",
      " WV      833\n",
      " SD      764\n",
      " VT      715\n",
      " WY      427\n",
      " DC       10\n",
      "Name: State, dtype: int64\n",
      "\n",
      "\n",
      "Make\n",
      "Ford             78627\n",
      "Chevrolet        72900\n",
      "Toyota           57485\n",
      "Honda            41490\n",
      "Jeep             30413\n",
      "GMC              25963\n",
      "Kia              20347\n",
      "Dodge            20178\n",
      "Hyundai          18856\n",
      "Lexus            17127\n",
      "BMW              15367\n",
      "Volkswagen       13876\n",
      "Nissan           13168\n",
      "Chrysler         11402\n",
      "Mercedes-Benz     9497\n",
      "Subaru            8499\n",
      "Cadillac          6738\n",
      "Buick             6132\n",
      "Ram               4520\n",
      "MINI              3497\n",
      "Land              3397\n",
      "INFINITI          3039\n",
      "Acura             2990\n",
      "Mazda             2952\n",
      "Lincoln           2168\n",
      "Volvo             2159\n",
      "Audi              1792\n",
      "Mitsubishi        1623\n",
      "Porsche           1200\n",
      "Scion              800\n",
      "Jaguar             422\n",
      "Pontiac            397\n",
      "FIAT               338\n",
      "Mercury            325\n",
      "Tesla              187\n",
      "Bentley             73\n",
      "Suzuki              49\n",
      "Freightliner         7\n",
      "Name: Make, dtype: int64\n",
      "\n",
      "\n",
      "Model\n",
      "Silverado       22562\n",
      "Grand           15382\n",
      "Sierra          10423\n",
      "Accord           9145\n",
      "F-1504WD         8379\n",
      "                ...  \n",
      "Element2WD         69\n",
      "MuranoS            68\n",
      "RX-84dr            66\n",
      "PathfinderSE       66\n",
      "Monte              65\n",
      "Name: Model, Length: 525, dtype: int64\n",
      "\n",
      "\n"
     ]
    }
   ],
   "source": [
    "# Frequency count of categorical attributes\n",
    "for category in categorical_:\n",
    "    print(category)\n",
    "    print(raw_df[category].value_counts())\n",
    "    print(\"\\n\")"
   ]
  },
  {
   "cell_type": "code",
   "execution_count": 29,
   "metadata": {},
   "outputs": [
    {
     "name": "stdout",
     "output_type": "stream",
     "text": [
      "State has 51 labels\n",
      "Make has 38 labels\n",
      "Model has 525 labels\n"
     ]
    }
   ],
   "source": [
    "# Number of unique values of each categorical attribute:\n",
    "for category in categorical_:\n",
    "    print(category, \"has\", raw_df[category].nunique(), \"labels\")"
   ]
  },
  {
   "cell_type": "markdown",
   "metadata": {},
   "source": [
    "As we see that the \"State\" attribute has 51 unique labels, we can perform one-hot encoding on the State attribute."
   ]
  },
  {
   "cell_type": "code",
   "execution_count": 32,
   "metadata": {},
   "outputs": [
    {
     "data": {
      "text/html": [
       "<div>\n",
       "<style scoped>\n",
       "    .dataframe tbody tr th:only-of-type {\n",
       "        vertical-align: middle;\n",
       "    }\n",
       "\n",
       "    .dataframe tbody tr th {\n",
       "        vertical-align: top;\n",
       "    }\n",
       "\n",
       "    .dataframe thead th {\n",
       "        text-align: right;\n",
       "    }\n",
       "</style>\n",
       "<table border=\"1\" class=\"dataframe\">\n",
       "  <thead>\n",
       "    <tr style=\"text-align: right;\">\n",
       "      <th></th>\n",
       "      <th>AL</th>\n",
       "      <th>AR</th>\n",
       "      <th>AZ</th>\n",
       "      <th>CA</th>\n",
       "      <th>CO</th>\n",
       "      <th>CT</th>\n",
       "      <th>DC</th>\n",
       "      <th>DE</th>\n",
       "      <th>FL</th>\n",
       "      <th>GA</th>\n",
       "      <th>...</th>\n",
       "      <th>SD</th>\n",
       "      <th>TN</th>\n",
       "      <th>TX</th>\n",
       "      <th>UT</th>\n",
       "      <th>VA</th>\n",
       "      <th>VT</th>\n",
       "      <th>WA</th>\n",
       "      <th>WI</th>\n",
       "      <th>WV</th>\n",
       "      <th>WY</th>\n",
       "    </tr>\n",
       "  </thead>\n",
       "  <tbody>\n",
       "    <tr>\n",
       "      <th>0</th>\n",
       "      <td>0</td>\n",
       "      <td>0</td>\n",
       "      <td>0</td>\n",
       "      <td>0</td>\n",
       "      <td>0</td>\n",
       "      <td>0</td>\n",
       "      <td>0</td>\n",
       "      <td>0</td>\n",
       "      <td>0</td>\n",
       "      <td>0</td>\n",
       "      <td>...</td>\n",
       "      <td>0</td>\n",
       "      <td>0</td>\n",
       "      <td>0</td>\n",
       "      <td>0</td>\n",
       "      <td>0</td>\n",
       "      <td>0</td>\n",
       "      <td>0</td>\n",
       "      <td>0</td>\n",
       "      <td>0</td>\n",
       "      <td>0</td>\n",
       "    </tr>\n",
       "    <tr>\n",
       "      <th>1</th>\n",
       "      <td>0</td>\n",
       "      <td>0</td>\n",
       "      <td>0</td>\n",
       "      <td>0</td>\n",
       "      <td>0</td>\n",
       "      <td>0</td>\n",
       "      <td>0</td>\n",
       "      <td>0</td>\n",
       "      <td>0</td>\n",
       "      <td>0</td>\n",
       "      <td>...</td>\n",
       "      <td>0</td>\n",
       "      <td>0</td>\n",
       "      <td>0</td>\n",
       "      <td>0</td>\n",
       "      <td>0</td>\n",
       "      <td>0</td>\n",
       "      <td>0</td>\n",
       "      <td>0</td>\n",
       "      <td>0</td>\n",
       "      <td>0</td>\n",
       "    </tr>\n",
       "    <tr>\n",
       "      <th>2</th>\n",
       "      <td>0</td>\n",
       "      <td>0</td>\n",
       "      <td>0</td>\n",
       "      <td>0</td>\n",
       "      <td>0</td>\n",
       "      <td>0</td>\n",
       "      <td>0</td>\n",
       "      <td>0</td>\n",
       "      <td>0</td>\n",
       "      <td>0</td>\n",
       "      <td>...</td>\n",
       "      <td>0</td>\n",
       "      <td>0</td>\n",
       "      <td>0</td>\n",
       "      <td>0</td>\n",
       "      <td>0</td>\n",
       "      <td>0</td>\n",
       "      <td>0</td>\n",
       "      <td>0</td>\n",
       "      <td>0</td>\n",
       "      <td>0</td>\n",
       "    </tr>\n",
       "    <tr>\n",
       "      <th>3</th>\n",
       "      <td>0</td>\n",
       "      <td>0</td>\n",
       "      <td>0</td>\n",
       "      <td>0</td>\n",
       "      <td>0</td>\n",
       "      <td>0</td>\n",
       "      <td>0</td>\n",
       "      <td>0</td>\n",
       "      <td>0</td>\n",
       "      <td>0</td>\n",
       "      <td>...</td>\n",
       "      <td>0</td>\n",
       "      <td>0</td>\n",
       "      <td>0</td>\n",
       "      <td>0</td>\n",
       "      <td>0</td>\n",
       "      <td>0</td>\n",
       "      <td>0</td>\n",
       "      <td>0</td>\n",
       "      <td>0</td>\n",
       "      <td>0</td>\n",
       "    </tr>\n",
       "    <tr>\n",
       "      <th>4</th>\n",
       "      <td>0</td>\n",
       "      <td>0</td>\n",
       "      <td>0</td>\n",
       "      <td>0</td>\n",
       "      <td>0</td>\n",
       "      <td>0</td>\n",
       "      <td>0</td>\n",
       "      <td>0</td>\n",
       "      <td>0</td>\n",
       "      <td>0</td>\n",
       "      <td>...</td>\n",
       "      <td>0</td>\n",
       "      <td>1</td>\n",
       "      <td>0</td>\n",
       "      <td>0</td>\n",
       "      <td>0</td>\n",
       "      <td>0</td>\n",
       "      <td>0</td>\n",
       "      <td>0</td>\n",
       "      <td>0</td>\n",
       "      <td>0</td>\n",
       "    </tr>\n",
       "  </tbody>\n",
       "</table>\n",
       "<p>5 rows × 50 columns</p>\n",
       "</div>"
      ],
      "text/plain": [
       "    AL   AR   AZ   CA   CO   CT   DC   DE   FL   GA  ...   SD   TN   TX   UT  \\\n",
       "0    0    0    0    0    0    0    0    0    0    0  ...    0    0    0    0   \n",
       "1    0    0    0    0    0    0    0    0    0    0  ...    0    0    0    0   \n",
       "2    0    0    0    0    0    0    0    0    0    0  ...    0    0    0    0   \n",
       "3    0    0    0    0    0    0    0    0    0    0  ...    0    0    0    0   \n",
       "4    0    0    0    0    0    0    0    0    0    0  ...    0    1    0    0   \n",
       "\n",
       "    VA   VT   WA   WI   WV   WY  \n",
       "0    0    0    0    0    0    0  \n",
       "1    0    0    0    0    0    0  \n",
       "2    0    0    0    0    0    0  \n",
       "3    0    0    0    0    0    0  \n",
       "4    0    0    0    0    0    0  \n",
       "\n",
       "[5 rows x 50 columns]"
      ]
     },
     "execution_count": 32,
     "metadata": {},
     "output_type": "execute_result"
    }
   ],
   "source": [
    "# One-hot encoding on the \"state\" attribute\n",
    "pd.get_dummies(raw_df['State'],drop_first=True).head()"
   ]
  },
  {
   "cell_type": "markdown",
   "metadata": {},
   "source": [
    "Here, we have drop_first=True because for a particular row(sample) if all these columns have 0 as its value, it correspond to the first label which has been removed.\n"
   ]
  },
  {
   "cell_type": "code",
   "execution_count": 34,
   "metadata": {},
   "outputs": [
    {
     "data": {
      "text/plain": [
       " AL     7873\n",
       " AR     3956\n",
       " AZ    13395\n",
       " CA    45643\n",
       " CO    13669\n",
       " CT     6178\n",
       " DC       10\n",
       " DE     1520\n",
       " FL    42244\n",
       " GA    22790\n",
       " HI     1486\n",
       " IA     2910\n",
       " ID     2153\n",
       " IL    21058\n",
       " IN     9833\n",
       " KS     4621\n",
       " KY     8331\n",
       " LA     4788\n",
       " MA    10753\n",
       " MD    10327\n",
       " ME     1197\n",
       " MI     6677\n",
       " MN     6782\n",
       " MO     9966\n",
       " MS     3843\n",
       " MT     1229\n",
       " NC    22363\n",
       " ND      855\n",
       " NE     3150\n",
       " NH     3413\n",
       " NJ    15220\n",
       " NM     2890\n",
       " NV     4134\n",
       " NY    15617\n",
       " OH    14171\n",
       " OK     6374\n",
       " OR     6128\n",
       " PA    16337\n",
       " RI     1065\n",
       " SC     6026\n",
       " SD      764\n",
       " TN    11569\n",
       " TX    57153\n",
       " UT     6095\n",
       " VA    19851\n",
       " VT      715\n",
       " WA    13637\n",
       " WI     6950\n",
       " WV      833\n",
       " WY      427\n",
       "dtype: int64"
      ]
     },
     "execution_count": 34,
     "metadata": {},
     "output_type": "execute_result"
    }
   ],
   "source": [
    "# Finding the count of each label can be verified by summing over column\n",
    "pd.get_dummies(raw_df[\"State\"],drop_first=True).sum(axis=0)"
   ]
  },
  {
   "cell_type": "markdown",
   "metadata": {},
   "source": [
    "Similarly, we would perform one-hot encoding on the \"Make\" attribute which has 38 unique labels."
   ]
  },
  {
   "cell_type": "code",
   "execution_count": 33,
   "metadata": {},
   "outputs": [
    {
     "data": {
      "text/html": [
       "<div>\n",
       "<style scoped>\n",
       "    .dataframe tbody tr th:only-of-type {\n",
       "        vertical-align: middle;\n",
       "    }\n",
       "\n",
       "    .dataframe tbody tr th {\n",
       "        vertical-align: top;\n",
       "    }\n",
       "\n",
       "    .dataframe thead th {\n",
       "        text-align: right;\n",
       "    }\n",
       "</style>\n",
       "<table border=\"1\" class=\"dataframe\">\n",
       "  <thead>\n",
       "    <tr style=\"text-align: right;\">\n",
       "      <th></th>\n",
       "      <th>Audi</th>\n",
       "      <th>BMW</th>\n",
       "      <th>Bentley</th>\n",
       "      <th>Buick</th>\n",
       "      <th>Cadillac</th>\n",
       "      <th>Chevrolet</th>\n",
       "      <th>Chrysler</th>\n",
       "      <th>Dodge</th>\n",
       "      <th>FIAT</th>\n",
       "      <th>Ford</th>\n",
       "      <th>...</th>\n",
       "      <th>Pontiac</th>\n",
       "      <th>Porsche</th>\n",
       "      <th>Ram</th>\n",
       "      <th>Scion</th>\n",
       "      <th>Subaru</th>\n",
       "      <th>Suzuki</th>\n",
       "      <th>Tesla</th>\n",
       "      <th>Toyota</th>\n",
       "      <th>Volkswagen</th>\n",
       "      <th>Volvo</th>\n",
       "    </tr>\n",
       "  </thead>\n",
       "  <tbody>\n",
       "    <tr>\n",
       "      <th>0</th>\n",
       "      <td>0</td>\n",
       "      <td>0</td>\n",
       "      <td>0</td>\n",
       "      <td>0</td>\n",
       "      <td>0</td>\n",
       "      <td>0</td>\n",
       "      <td>0</td>\n",
       "      <td>0</td>\n",
       "      <td>0</td>\n",
       "      <td>0</td>\n",
       "      <td>...</td>\n",
       "      <td>0</td>\n",
       "      <td>0</td>\n",
       "      <td>0</td>\n",
       "      <td>0</td>\n",
       "      <td>0</td>\n",
       "      <td>0</td>\n",
       "      <td>0</td>\n",
       "      <td>0</td>\n",
       "      <td>0</td>\n",
       "      <td>0</td>\n",
       "    </tr>\n",
       "    <tr>\n",
       "      <th>1</th>\n",
       "      <td>0</td>\n",
       "      <td>0</td>\n",
       "      <td>0</td>\n",
       "      <td>0</td>\n",
       "      <td>0</td>\n",
       "      <td>1</td>\n",
       "      <td>0</td>\n",
       "      <td>0</td>\n",
       "      <td>0</td>\n",
       "      <td>0</td>\n",
       "      <td>...</td>\n",
       "      <td>0</td>\n",
       "      <td>0</td>\n",
       "      <td>0</td>\n",
       "      <td>0</td>\n",
       "      <td>0</td>\n",
       "      <td>0</td>\n",
       "      <td>0</td>\n",
       "      <td>0</td>\n",
       "      <td>0</td>\n",
       "      <td>0</td>\n",
       "    </tr>\n",
       "    <tr>\n",
       "      <th>2</th>\n",
       "      <td>0</td>\n",
       "      <td>0</td>\n",
       "      <td>0</td>\n",
       "      <td>0</td>\n",
       "      <td>0</td>\n",
       "      <td>0</td>\n",
       "      <td>0</td>\n",
       "      <td>0</td>\n",
       "      <td>0</td>\n",
       "      <td>0</td>\n",
       "      <td>...</td>\n",
       "      <td>0</td>\n",
       "      <td>0</td>\n",
       "      <td>0</td>\n",
       "      <td>0</td>\n",
       "      <td>0</td>\n",
       "      <td>0</td>\n",
       "      <td>0</td>\n",
       "      <td>0</td>\n",
       "      <td>0</td>\n",
       "      <td>0</td>\n",
       "    </tr>\n",
       "    <tr>\n",
       "      <th>3</th>\n",
       "      <td>0</td>\n",
       "      <td>0</td>\n",
       "      <td>0</td>\n",
       "      <td>0</td>\n",
       "      <td>0</td>\n",
       "      <td>0</td>\n",
       "      <td>0</td>\n",
       "      <td>0</td>\n",
       "      <td>0</td>\n",
       "      <td>0</td>\n",
       "      <td>...</td>\n",
       "      <td>0</td>\n",
       "      <td>0</td>\n",
       "      <td>0</td>\n",
       "      <td>0</td>\n",
       "      <td>0</td>\n",
       "      <td>0</td>\n",
       "      <td>0</td>\n",
       "      <td>0</td>\n",
       "      <td>0</td>\n",
       "      <td>0</td>\n",
       "    </tr>\n",
       "    <tr>\n",
       "      <th>4</th>\n",
       "      <td>0</td>\n",
       "      <td>0</td>\n",
       "      <td>0</td>\n",
       "      <td>0</td>\n",
       "      <td>0</td>\n",
       "      <td>0</td>\n",
       "      <td>0</td>\n",
       "      <td>0</td>\n",
       "      <td>0</td>\n",
       "      <td>0</td>\n",
       "      <td>...</td>\n",
       "      <td>0</td>\n",
       "      <td>0</td>\n",
       "      <td>0</td>\n",
       "      <td>0</td>\n",
       "      <td>0</td>\n",
       "      <td>0</td>\n",
       "      <td>0</td>\n",
       "      <td>0</td>\n",
       "      <td>0</td>\n",
       "      <td>0</td>\n",
       "    </tr>\n",
       "  </tbody>\n",
       "</table>\n",
       "<p>5 rows × 37 columns</p>\n",
       "</div>"
      ],
      "text/plain": [
       "   Audi  BMW  Bentley  Buick  Cadillac  Chevrolet  Chrysler  Dodge  FIAT  \\\n",
       "0     0    0        0      0         0          0         0      0     0   \n",
       "1     0    0        0      0         0          1         0      0     0   \n",
       "2     0    0        0      0         0          0         0      0     0   \n",
       "3     0    0        0      0         0          0         0      0     0   \n",
       "4     0    0        0      0         0          0         0      0     0   \n",
       "\n",
       "   Ford  ...  Pontiac  Porsche  Ram  Scion  Subaru  Suzuki  Tesla  Toyota  \\\n",
       "0     0  ...        0        0    0      0       0       0      0       0   \n",
       "1     0  ...        0        0    0      0       0       0      0       0   \n",
       "2     0  ...        0        0    0      0       0       0      0       0   \n",
       "3     0  ...        0        0    0      0       0       0      0       0   \n",
       "4     0  ...        0        0    0      0       0       0      0       0   \n",
       "\n",
       "   Volkswagen  Volvo  \n",
       "0           0      0  \n",
       "1           0      0  \n",
       "2           0      0  \n",
       "3           0      0  \n",
       "4           0      0  \n",
       "\n",
       "[5 rows x 37 columns]"
      ]
     },
     "execution_count": 33,
     "metadata": {},
     "output_type": "execute_result"
    }
   ],
   "source": [
    "# One-hot encoding on the \"make\" attribute\n",
    "pd.get_dummies(raw_df['Make'],drop_first=True).head()"
   ]
  },
  {
   "cell_type": "code",
   "execution_count": 36,
   "metadata": {},
   "outputs": [
    {
     "data": {
      "text/plain": [
       "Audi              1792\n",
       "BMW              15367\n",
       "Bentley             73\n",
       "Buick             6132\n",
       "Cadillac          6738\n",
       "Chevrolet        72900\n",
       "Chrysler         11402\n",
       "Dodge            20178\n",
       "FIAT               338\n",
       "Ford             78627\n",
       "Freightliner         7\n",
       "GMC              25963\n",
       "Honda            41490\n",
       "Hyundai          18856\n",
       "INFINITI          3039\n",
       "Jaguar             422\n",
       "Jeep             30413\n",
       "Kia              20347\n",
       "Land              3397\n",
       "Lexus            17127\n",
       "Lincoln           2168\n",
       "MINI              3497\n",
       "Mazda             2952\n",
       "Mercedes-Benz     9497\n",
       "Mercury            325\n",
       "Mitsubishi        1623\n",
       "Nissan           13168\n",
       "Pontiac            397\n",
       "Porsche           1200\n",
       "Ram               4520\n",
       "Scion              800\n",
       "Subaru            8499\n",
       "Suzuki              49\n",
       "Tesla              187\n",
       "Toyota           57485\n",
       "Volkswagen       13876\n",
       "Volvo             2159\n",
       "dtype: int64"
      ]
     },
     "execution_count": 36,
     "metadata": {},
     "output_type": "execute_result"
    }
   ],
   "source": [
    "# Finding the count of each label can be verified by summing over column\n",
    "pd.get_dummies(raw_df[\"Make\"],drop_first=True).sum(axis=0)"
   ]
  },
  {
   "cell_type": "markdown",
   "metadata": {},
   "source": [
    "### Numerical Attributes"
   ]
  },
  {
   "cell_type": "code",
   "execution_count": 49,
   "metadata": {},
   "outputs": [
    {
     "name": "stdout",
     "output_type": "stream",
     "text": [
      "There are 3 numerical attributes: ['Price', 'Year', 'Mileage']\n"
     ]
    }
   ],
   "source": [
    "# Numerical Attributes\n",
    "Numerical_ = [col for col in raw_df.columns if raw_df[col].dtype!='O']\n",
    "print(\"There are {} numerical attributes: {}\".format(len(Numerical_),Numerical_))"
   ]
  },
  {
   "cell_type": "code",
   "execution_count": 50,
   "metadata": {},
   "outputs": [
    {
     "data": {
      "text/html": [
       "<div>\n",
       "<style scoped>\n",
       "    .dataframe tbody tr th:only-of-type {\n",
       "        vertical-align: middle;\n",
       "    }\n",
       "\n",
       "    .dataframe tbody tr th {\n",
       "        vertical-align: top;\n",
       "    }\n",
       "\n",
       "    .dataframe thead th {\n",
       "        text-align: right;\n",
       "    }\n",
       "</style>\n",
       "<table border=\"1\" class=\"dataframe\">\n",
       "  <thead>\n",
       "    <tr style=\"text-align: right;\">\n",
       "      <th></th>\n",
       "      <th>Price</th>\n",
       "      <th>Year</th>\n",
       "      <th>Mileage</th>\n",
       "    </tr>\n",
       "  </thead>\n",
       "  <tbody>\n",
       "    <tr>\n",
       "      <th>0</th>\n",
       "      <td>21490</td>\n",
       "      <td>2014</td>\n",
       "      <td>31909</td>\n",
       "    </tr>\n",
       "    <tr>\n",
       "      <th>1</th>\n",
       "      <td>21250</td>\n",
       "      <td>2016</td>\n",
       "      <td>25741</td>\n",
       "    </tr>\n",
       "    <tr>\n",
       "      <th>2</th>\n",
       "      <td>20925</td>\n",
       "      <td>2016</td>\n",
       "      <td>24633</td>\n",
       "    </tr>\n",
       "    <tr>\n",
       "      <th>3</th>\n",
       "      <td>14500</td>\n",
       "      <td>2012</td>\n",
       "      <td>84026</td>\n",
       "    </tr>\n",
       "    <tr>\n",
       "      <th>4</th>\n",
       "      <td>32488</td>\n",
       "      <td>2013</td>\n",
       "      <td>22816</td>\n",
       "    </tr>\n",
       "    <tr>\n",
       "      <th>5</th>\n",
       "      <td>37944</td>\n",
       "      <td>2017</td>\n",
       "      <td>5362</td>\n",
       "    </tr>\n",
       "    <tr>\n",
       "      <th>6</th>\n",
       "      <td>18995</td>\n",
       "      <td>2010</td>\n",
       "      <td>69431</td>\n",
       "    </tr>\n",
       "    <tr>\n",
       "      <th>7</th>\n",
       "      <td>28000</td>\n",
       "      <td>2015</td>\n",
       "      <td>35090</td>\n",
       "    </tr>\n",
       "    <tr>\n",
       "      <th>8</th>\n",
       "      <td>10995</td>\n",
       "      <td>2012</td>\n",
       "      <td>35100</td>\n",
       "    </tr>\n",
       "    <tr>\n",
       "      <th>9</th>\n",
       "      <td>32991</td>\n",
       "      <td>2017</td>\n",
       "      <td>14238</td>\n",
       "    </tr>\n",
       "  </tbody>\n",
       "</table>\n",
       "</div>"
      ],
      "text/plain": [
       "   Price  Year  Mileage\n",
       "0  21490  2014    31909\n",
       "1  21250  2016    25741\n",
       "2  20925  2016    24633\n",
       "3  14500  2012    84026\n",
       "4  32488  2013    22816\n",
       "5  37944  2017     5362\n",
       "6  18995  2010    69431\n",
       "7  28000  2015    35090\n",
       "8  10995  2012    35100\n",
       "9  32991  2017    14238"
      ]
     },
     "execution_count": 50,
     "metadata": {},
     "output_type": "execute_result"
    }
   ],
   "source": [
    "raw_df[Numerical_].head(10)"
   ]
  },
  {
   "cell_type": "code",
   "execution_count": 51,
   "metadata": {},
   "outputs": [
    {
     "data": {
      "text/plain": [
       "Price      0\n",
       "Year       0\n",
       "Mileage    0\n",
       "dtype: int64"
      ]
     },
     "execution_count": 51,
     "metadata": {},
     "output_type": "execute_result"
    }
   ],
   "source": [
    "# Confirming if there are any null values in numerical attributes\n",
    "raw_df[Numerical_].isnull().sum()"
   ]
  },
  {
   "cell_type": "markdown",
   "metadata": {},
   "source": [
    "We see that there are no null values in the year as well. So, even though the \"Year\" is in integer format, we *do not need to* treat it like numerical attribute as it indicates the year in which the car was bought firsthand."
   ]
  },
  {
   "cell_type": "markdown",
   "metadata": {},
   "source": [
    "Now, we aim to find the summary statistics of the remaining two numerical attributes"
   ]
  },
  {
   "cell_type": "code",
   "execution_count": 52,
   "metadata": {},
   "outputs": [],
   "source": [
    "# Removing the \"Year\" attribute from the numerical attributes and adding it to categorical attributes\n",
    "Numerical_.remove(\"Year\")\n",
    "categorical_.append(\"Year\")"
   ]
  },
  {
   "cell_type": "code",
   "execution_count": 55,
   "metadata": {},
   "outputs": [
    {
     "name": "stdout",
     "output_type": "stream",
     "text": [
      "          Price    Mileage\n",
      "count  500000.0   500000.0\n",
      "mean    21144.0    55076.0\n",
      "std     10753.0    40897.0\n",
      "min      5001.0        5.0\n",
      "25%     13499.0    25855.0\n",
      "50%     18450.0    42990.0\n",
      "75%     26998.0    77406.0\n",
      "max     79999.0  2457832.0 2\n"
     ]
    }
   ],
   "source": [
    "print(round(raw_df[Numerical_].describe()),2)"
   ]
  },
  {
   "cell_type": "markdown",
   "metadata": {},
   "source": [
    "We can observe that the mean and standard deviation is almsot equal for the columns, \"Price\" and \"Mileage\". So, we can estimate that there might be many outliers in these columns."
   ]
  },
  {
   "cell_type": "markdown",
   "metadata": {},
   "source": [
    "We can visualize the outliers using boxplots and hence we will plot boxplots for \"Price\" and \"Mileage\" to gain understanding about the numerical attributes"
   ]
  },
  {
   "cell_type": "code",
   "execution_count": 61,
   "metadata": {},
   "outputs": [
    {
     "data": {
      "text/plain": [
       "Text(0, 0.5, 'Mileage')"
      ]
     },
     "execution_count": 61,
     "metadata": {},
     "output_type": "execute_result"
    },
    {
     "data": {
      "image/png": "[encoded data removed]",
      "text/plain": [
       "<Figure size 2000x2000 with 2 Axes>"
      ]
     },
     "metadata": {},
     "output_type": "display_data"
    }
   ],
   "source": [
    "# Boxplots to visualize outliers\n",
    "\n",
    "plt.figure(figsize=(20,20))\n",
    "\n",
    "\n",
    "plt.subplot(2, 2, 1)\n",
    "fig = raw_df.boxplot(column='Price')\n",
    "fig.set_title('')\n",
    "fig.set_ylabel('Price')\n",
    "\n",
    "\n",
    "plt.subplot(2, 2, 2)\n",
    "fig = raw_df.boxplot(column='Mileage')\n",
    "fig.set_title('')\n",
    "fig.set_ylabel('Mileage')"
   ]
  },
  {
   "cell_type": "markdown",
   "metadata": {},
   "source": [
    "Here, the centerline denotes the median of the data whereas the upper line and lower line define 3rd quartile(75%) and 1st quartile(25%) of respective columns."
   ]
  },
  {
   "cell_type": "markdown",
   "metadata": {},
   "source": [
    "We observe that there are very large amount of outliers in both the columns and it is important to note that the outliers are only occuring above the 3rd quartile whereas there are zero outlier below the 1st quartile range. "
   ]
  },
  {
   "cell_type": "code",
   "execution_count": null,
   "metadata": {},
   "outputs": [],
   "source": []
  }
 ],
 "metadata": {
  "kernelspec": {
   "display_name": "Python 3",
   "language": "python",
   "name": "python3"
  },
  "language_info": {
   "codemirror_mode": {
    "name": "ipython",
    "version": 3
   },
   "file_extension": ".py",
   "mimetype": "text/x-python",
   "name": "python",
   "nbconvert_exporter": "python",
   "pygments_lexer": "ipython3",
   "version": "3.9.10"
  },
  "orig_nbformat": 4
 },
 "nbformat": 4,
 "nbformat_minor": 2
}
